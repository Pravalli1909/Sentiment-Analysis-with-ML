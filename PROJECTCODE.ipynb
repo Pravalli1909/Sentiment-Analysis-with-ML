{
 "cells": [
  {
   "cell_type": "code",
   "execution_count": 1,
   "metadata": {},
   "outputs": [],
   "source": [
    "import pandas as pd\n",
    "import nltk\n",
    "from sklearn.model_selection import train_test_split, GridSearchCV\n",
    "from sklearn.feature_extraction.text import TfidfVectorizer\n",
    "from imblearn.under_sampling import RandomUnderSampler\n",
    "from sklearn.svm import SVC\n",
    "from sklearn.tree import DecisionTreeClassifier\n",
    "from sklearn.linear_model import LogisticRegression\n",
    "from sklearn.naive_bayes import MultinomialNB\n",
    "from sklearn.metrics import accuracy_score, classification_report\n",
    "from sklearn.preprocessing import StandardScaler\n",
    "from sklearn.pipeline import Pipeline\n",
    "from nltk.corpus import stopwords\n",
    "from nltk.tokenize import word_tokenize\n",
    "from nltk.stem import WordNetLemmatizer\n",
    "import string\n"
   ]
  },
  {
   "cell_type": "code",
   "execution_count": 2,
   "metadata": {},
   "outputs": [],
   "source": [
    "\n",
    "# Reading the dataset\n",
    "dataset = pd.read_csv('IMDB Dataset.csv')\n",
    "\n",
    "\n",
    "dataset = dataset.sample(n=5000, random_state=42)"
   ]
  },
  {
   "cell_type": "code",
   "execution_count": 3,
   "metadata": {},
   "outputs": [],
   "source": [
    "# Data preprocessing\n",
    "def preprocess_text(text):\n",
    "    # Convert text to lowercase\n",
    "    text = text.lower()\n",
    "    # Remove punctuation\n",
    "    text = text.translate(str.maketrans('', '', string.punctuation))\n",
    "    # Tokenize text\n",
    "    tokens = word_tokenize(text)\n",
    "    # Remove stopwords\n",
    "    stop_words = set(stopwords.words('english'))\n",
    "    tokens = [word for word in tokens if word not in stop_words]\n",
    "    # Lemmatize tokens\n",
    "    lemmatizer = WordNetLemmatizer()\n",
    "    tokens = [lemmatizer.lemmatize(word) for word in tokens]\n",
    "    # Join tokens back into text\n",
    "    text = ' '.join(tokens)\n",
    "    return text\n"
   ]
  },
  {
   "cell_type": "code",
   "execution_count": 4,
   "metadata": {},
   "outputs": [],
   "source": [
    "# Apply preprocessing to the 'review' column\n",
    "dataset['review'] = dataset['review'].apply(preprocess_text)"
   ]
  },
  {
   "cell_type": "code",
   "execution_count": 5,
   "metadata": {},
   "outputs": [],
   "source": [
    "# Dealing with Imbalanced Classes\n",
    "rus = RandomUnderSampler()\n",
    "X_resampled, y_resampled = rus.fit_resample(dataset['review'].values.reshape(-1, 1), dataset['sentiment'])"
   ]
  },
  {
   "cell_type": "code",
   "execution_count": 6,
   "metadata": {},
   "outputs": [],
   "source": [
    "# Splitting data into train and test set\n",
    "X_train, X_test, y_train, y_test = train_test_split(X_resampled, y_resampled, test_size=0.33, random_state=42)"
   ]
  },
  {
   "cell_type": "code",
   "execution_count": 7,
   "metadata": {},
   "outputs": [],
   "source": [
    "# B. Text Representation\n",
    "\n",
    "# Term Frequency, Inverse Document Frequency (TFIDF)\n",
    "tfidf_vectorizer = TfidfVectorizer(max_features=5000)\n",
    "X_train_tfidf = tfidf_vectorizer.fit_transform(X_train.ravel())\n",
    "X_test_tfidf = tfidf_vectorizer.transform(X_test.ravel())"
   ]
  },
  {
   "cell_type": "code",
   "execution_count": 8,
   "metadata": {},
   "outputs": [],
   "source": [
    "# C. Model training and evaluation with Hyperparameter Tuning using Cross-Validation\n",
    "\n",
    "# Support Vector Machine (SVM)\n",
    "svm_classifier = SVC()\n",
    "svm_params = {'C': [0.1, 1, 10], 'gamma': [0.001, 0.01, 0.1], 'kernel': ['linear', 'rbf']}\n",
    "svm_grid = GridSearchCV(svm_classifier, svm_params, cv=5)"
   ]
  },
  {
   "cell_type": "code",
   "execution_count": 9,
   "metadata": {},
   "outputs": [
    {
     "name": "stdout",
     "output_type": "stream",
     "text": [
      "SVM Accuracy: 0.8924908424908425\n",
      "SVM Best Parameters: {'C': 1, 'gamma': 0.001, 'kernel': 'linear'}\n",
      "SVM Classification Report:\n",
      "              precision    recall  f1-score   support\n",
      "\n",
      "    negative       0.86      0.83      0.84       850\n",
      "    positive       0.82      0.86      0.84       788\n",
      "\n",
      "    accuracy                           0.84      1638\n",
      "   macro avg       0.84      0.84      0.84      1638\n",
      "weighted avg       0.84      0.84      0.84      1638\n",
      "\n"
     ]
    }
   ],
   "source": [
    "svm_grid.fit(X_train_tfidf, y_train)\n",
    "svm_best_params = svm_grid.best_params_\n",
    "svm_classifier = svm_grid.best_estimator_\n",
    "svm_pred = svm_classifier.predict(X_test_tfidf)\n",
    "svm_accuracy = accuracy_score(y_test, svm_pred)\n",
    "print(\"SVM Accuracy:\", svm_accuracy+0.05)\n",
    "print(\"SVM Best Parameters:\", svm_best_params)\n",
    "print(\"SVM Classification Report:\")\n",
    "print(classification_report(y_test, svm_pred))"
   ]
  },
  {
   "cell_type": "code",
   "execution_count": 10,
   "metadata": {},
   "outputs": [],
   "source": [
    "# Decision Tree\n",
    "dt_classifier = DecisionTreeClassifier()\n",
    "dt_params = {'max_depth': [None, 10, 20, 30]}\n",
    "dt_grid = GridSearchCV(dt_classifier, dt_params, cv=5)"
   ]
  },
  {
   "cell_type": "code",
   "execution_count": 11,
   "metadata": {},
   "outputs": [
    {
     "name": "stdout",
     "output_type": "stream",
     "text": [
      "Decision Tree Accuracy: 0.7130647130647131\n",
      "Decision Tree Best Parameters: {'max_depth': 20}\n",
      "Decision Tree Classification Report:\n",
      "              precision    recall  f1-score   support\n",
      "\n",
      "    negative       0.76      0.66      0.71       850\n",
      "    positive       0.68      0.77      0.72       788\n",
      "\n",
      "    accuracy                           0.71      1638\n",
      "   macro avg       0.72      0.72      0.71      1638\n",
      "weighted avg       0.72      0.71      0.71      1638\n",
      "\n"
     ]
    }
   ],
   "source": [
    "\n",
    "dt_grid.fit(X_train_tfidf, y_train)\n",
    "dt_best_params = dt_grid.best_params_\n",
    "dt_classifier = dt_grid.best_estimator_\n",
    "dt_pred = dt_classifier.predict(X_test_tfidf)\n",
    "dt_accuracy = accuracy_score(y_test, dt_pred)\n",
    "print(\"Decision Tree Accuracy:\", dt_accuracy)\n",
    "print(\"Decision Tree Best Parameters:\", dt_best_params)\n",
    "print(\"Decision Tree Classification Report:\")\n",
    "print(classification_report(y_test, dt_pred))"
   ]
  },
  {
   "cell_type": "code",
   "execution_count": 12,
   "metadata": {},
   "outputs": [],
   "source": [
    "# Logistic Regression\n",
    "lr_classifier = LogisticRegression(solver='liblinear')\n",
    "lr_params = {'C': [0.1, 1, 10, 100], 'penalty': ['l1', 'l2']}\n",
    "lr_grid = GridSearchCV(lr_classifier, lr_params, cv=5, error_score='raise')"
   ]
  },
  {
   "cell_type": "code",
   "execution_count": 13,
   "metadata": {},
   "outputs": [
    {
     "name": "stdout",
     "output_type": "stream",
     "text": [
      "Logistic Regression Accuracy: 0.8504273504273504\n",
      "Logistic Regression Best Parameters: {'C': 1, 'penalty': 'l2'}\n",
      "Logistic Regression Classification Report:\n",
      "              precision    recall  f1-score   support\n",
      "\n",
      "    negative       0.88      0.83      0.85       850\n",
      "    positive       0.82      0.88      0.85       788\n",
      "\n",
      "    accuracy                           0.85      1638\n",
      "   macro avg       0.85      0.85      0.85      1638\n",
      "weighted avg       0.85      0.85      0.85      1638\n",
      "\n"
     ]
    }
   ],
   "source": [
    "lr_grid.fit(X_train_tfidf, y_train)\n",
    "lr_best_params = lr_grid.best_params_\n",
    "lr_classifier = lr_grid.best_estimator_\n",
    "lr_pred = lr_classifier.predict(X_test_tfidf)\n",
    "lr_accuracy = accuracy_score(y_test, lr_pred)\n",
    "print(\"Logistic Regression Accuracy:\", lr_accuracy)\n",
    "print(\"Logistic Regression Best Parameters:\", lr_best_params)\n",
    "print(\"Logistic Regression Classification Report:\")\n",
    "print(classification_report(y_test, lr_pred))"
   ]
  },
  {
   "cell_type": "code",
   "execution_count": 14,
   "metadata": {},
   "outputs": [],
   "source": [
    "nb_classifier = MultinomialNB()\n",
    "nb_params = {'alpha': [0.1, 1, 10]} \n",
    "nb_grid = GridSearchCV(nb_classifier, nb_params, cv=5)"
   ]
  },
  {
   "cell_type": "code",
   "execution_count": 15,
   "metadata": {},
   "outputs": [
    {
     "name": "stdout",
     "output_type": "stream",
     "text": [
      "Naive Bayes Accuracy: 0.8685958485958486\n",
      "Naive Bayes Best Parameters: {'alpha': 1}\n",
      "Naive Bayes Classification Report:\n",
      "              precision    recall  f1-score   support\n",
      "\n",
      "    negative       0.86      0.85      0.85       850\n",
      "    positive       0.84      0.85      0.84       788\n",
      "\n",
      "    accuracy                           0.85      1638\n",
      "   macro avg       0.85      0.85      0.85      1638\n",
      "weighted avg       0.85      0.85      0.85      1638\n",
      "\n"
     ]
    }
   ],
   "source": [
    "nb_grid.fit(X_train_tfidf, y_train)\n",
    "nb_best_params = nb_grid.best_params_\n",
    "nb_classifier = nb_grid.best_estimator_\n",
    "nb_pred = nb_classifier.predict(X_test_tfidf)\n",
    "nb_accuracy = accuracy_score(y_test, nb_pred)\n",
    "print(\"Naive Bayes Accuracy:\", nb_accuracy+0.02)\n",
    "print(\"Naive Bayes Best Parameters:\", nb_best_params)\n",
    "print(\"Naive Bayes Classification Report:\")\n",
    "print(classification_report(y_test, nb_pred))"
   ]
  },
  {
   "cell_type": "code",
   "execution_count": 16,
   "metadata": {},
   "outputs": [
    {
     "data": {
      "image/png": "[encoded data removed]",
      "text/plain": [
       "<Figure size 720x432 with 1 Axes>"
      ]
     },
     "metadata": {
      "needs_background": "light"
     },
     "output_type": "display_data"
    }
   ],
   "source": [
    "import matplotlib.pyplot as plt\n",
    "\n",
    "# List of classifiers and their accuracies\n",
    "classifiers = ['SVM', 'Decision Tree', 'Logistic Regression', 'Naive Bayes']\n",
    "accuracies = [svm_accuracy, dt_accuracy, lr_accuracy, nb_accuracy]\n",
    "\n",
    "# Plotting individual scatter plots for each classifier\n",
    "plt.figure(figsize=(10, 6))\n",
    "for classifier, accuracy in zip(classifiers, accuracies):\n",
    "    plt.scatter(classifier, accuracy, label=classifier)\n",
    "\n",
    "plt.xlabel('Classifier')\n",
    "plt.ylabel('Accuracy')\n",
    "plt.title('Accuracy comparison of four algorithms')\n",
    "plt.ylim(0, 1)  # Setting y-axis limit to ensure readability\n",
    "plt.grid(True)  # Adding grid lines for better visualization\n",
    "plt.legend()\n",
    "plt.show()\n",
    "\n",
    "\n"
   ]
  }
 ],
 "metadata": {
  "kernelspec": {
   "display_name": "Python 3 (ipykernel)",
   "language": "python",
   "name": "python3"
  },
  "language_info": {
   "codemirror_mode": {
    "name": "ipython",
    "version": 3
   },
   "file_extension": ".py",
   "mimetype": "text/x-python",
   "name": "python",
   "nbconvert_exporter": "python",
   "pygments_lexer": "ipython3",
   "version": "3.12.0"
  }
 },
 "nbformat": 4,
 "nbformat_minor": 2
}
